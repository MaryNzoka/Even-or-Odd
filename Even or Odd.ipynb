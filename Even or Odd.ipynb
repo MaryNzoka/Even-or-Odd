{
 "cells": [
  {
   "cell_type": "markdown",
   "id": "6a3f9b47",
   "metadata": {},
   "source": [
    "## Even or Odd"
   ]
  },
  {
   "cell_type": "code",
   "execution_count": null,
   "id": "3e6940df",
   "metadata": {},
   "outputs": [],
   "source": [
    "img = Image.open(\"\")"
   ]
  },
  {
   "cell_type": "markdown",
   "id": "790b7b68",
   "metadata": {},
   "source": [
    "# Let's find whether a number is odd or even."
   ]
  },
  {
   "cell_type": "code",
   "execution_count": 3,
   "id": "b774983a",
   "metadata": {},
   "outputs": [
    {
     "name": "stdout",
     "output_type": "stream",
     "text": [
      "7 is odd\n"
     ]
    }
   ],
   "source": [
    "n = 7\n",
    "if n % 2 == 0:\n",
    "    print(n, \"is even\")\n",
    "else:\n",
    "    print(n, \"is odd\")"
   ]
  },
  {
   "cell_type": "code",
   "execution_count": 4,
   "id": "f6e21da1",
   "metadata": {},
   "outputs": [
    {
     "name": "stdout",
     "output_type": "stream",
     "text": [
      "8 is even\n"
     ]
    }
   ],
   "source": [
    "n = 8\n",
    "if n % 2 == 0:\n",
    "    print(n, \"is even\")\n",
    "else:\n",
    "    print(n, \"is odd\")"
   ]
  },
  {
   "cell_type": "code",
   "execution_count": 5,
   "id": "7e0e0130",
   "metadata": {},
   "outputs": [
    {
     "name": "stdout",
     "output_type": "stream",
     "text": [
      "11 is odd\n"
     ]
    }
   ],
   "source": [
    "n = 11\n",
    "if n % 2 == 0:\n",
    "    print(n, \"is even\")\n",
    "else:\n",
    "    print(n, \"is odd\")"
   ]
  }
 ],
 "metadata": {
  "kernelspec": {
   "display_name": "Python 3 (ipykernel)",
   "language": "python",
   "name": "python3"
  },
  "language_info": {
   "codemirror_mode": {
    "name": "ipython",
    "version": 3
   },
   "file_extension": ".py",
   "mimetype": "text/x-python",
   "name": "python",
   "nbconvert_exporter": "python",
   "pygments_lexer": "ipython3",
   "version": "3.11.2"
  }
 },
 "nbformat": 4,
 "nbformat_minor": 5
}
